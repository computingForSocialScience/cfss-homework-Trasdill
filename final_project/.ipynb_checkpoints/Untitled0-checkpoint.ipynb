{
 "metadata": {
  "name": "",
  "signature": "sha256:0e028c58064db06fdca507004923685a77c0c45fc7058a12b20ce072d07d0834"
 },
 "nbformat": 3,
 "nbformat_minor": 0,
 "worksheets": []
}