{
 "metadata": {
  "name": "",
  "signature": "sha256:5906b032ac92af086be284f4f07c556316fa9b59250b9ad309d400bc38af320d"
 },
 "nbformat": 3,
 "nbformat_minor": 0,
 "worksheets": [
  {
   "cells": [
    {
     "cell_type": "code",
     "collapsed": false,
     "input": [
      "import parse.py"
     ],
     "language": "python",
     "metadata": {},
     "outputs": [
      {
       "ename": "ImportError",
       "evalue": "No module named py",
       "output_type": "pyerr",
       "traceback": [
        "\u001b[1;31m---------------------------------------------------------------------------\u001b[0m\n\u001b[1;31mImportError\u001b[0m                               Traceback (most recent call last)",
        "\u001b[1;32m<ipython-input-1-4f7e51059899>\u001b[0m in \u001b[0;36m<module>\u001b[1;34m()\u001b[0m\n\u001b[1;32m----> 1\u001b[1;33m \u001b[1;32mimport\u001b[0m \u001b[0mparse\u001b[0m\u001b[1;33m.\u001b[0m\u001b[0mpy\u001b[0m\u001b[1;33m\u001b[0m\u001b[0m\n\u001b[0m",
        "\u001b[1;31mImportError\u001b[0m: No module named py"
       ]
      }
     ],
     "prompt_number": 1
    },
    {
     "cell_type": "code",
     "collapsed": false,
     "input": [
      "import csv\n",
      "import sys\n",
      "\n",
      "def readCSV(filename):\n",
      "    '''Reads the CSV file `filename` and returns a list\n",
      "    with as many items as the CSV has rows. Each list item \n",
      "    is a tuple containing the columns in that row as strings.\n",
      "    Note that if the CSV has a header, it will be the first\n",
      "    item in the list.'''\n",
      "    with open(filename,'r') as f:\n",
      "        rdr = csv.reader(f)\n",
      "        lines = list(rdr)\n",
      "    return(lines)\n",
      "    \n"
     ],
     "language": "python",
     "metadata": {},
     "outputs": [],
     "prompt_number": 1
    },
    {
     "cell_type": "code",
     "collapsed": false,
     "input": [],
     "language": "python",
     "metadata": {},
     "outputs": [],
     "prompt_number": 13
    },
    {
     "cell_type": "code",
     "collapsed": false,
     "input": [
      "def get_avg_latlng(filename):\n",
      "    lat = []\n",
      "    lng = []\n",
      "    first = True\n",
      "    for item in readCSV(filename):\n",
      "        if (first == True):\n",
      "            first = False\n",
      "            continue\n",
      "        if (item[-3] == ''):\n",
      "            continue\n",
      "        latint = float(item[-3])\n",
      "        lngint = float(item[-2])\n",
      "        lat.append(latint)\n",
      "        lng.append(lngint)\n",
      "    avg_lat = sum(lat)/len(lat)\n",
      "    avg_lng = sum(lng)/len(lng)\n",
      "    print avg_lat\n",
      "    print avg_lng\n",
      "        \n",
      "        "
     ],
     "language": "python",
     "metadata": {},
     "outputs": [],
     "prompt_number": 2
    },
    {
     "cell_type": "code",
     "collapsed": false,
     "input": [
      "from matplotlib import pyplot as plt\n",
      "def zip_code_barchart(filename):\n",
      "    first = True\n",
      "    zipdata = []\n",
      "    for item in readCSV(filename):\n",
      "        if (first == True):\n",
      "            first = False\n",
      "            continue\n",
      "        zipdata.append(item[28])\n",
      "        zipdata.append(item[35])\n",
      "        zipdata.append(item[42])\n",
      "        zipdata.append(item[49])\n",
      "        zipdata.append(item[56])\n",
      "        zipdata.append(item[63])\n",
      "        zipdata.append(item[70])\n",
      "        zipdata.append(item[77])\n",
      "        zipdata.append(item[84])\n",
      "        zipdata.append(item[91])\n",
      "        zipdata.append(item[98])\n",
      "        zipdata.append(item[105])\n",
      "        zipdata.append(item[112])\n",
      "        zipdata.append(item[119])\n",
      "        zipdata.append(item[126])\n",
      "\n",
      "    zipstring= []\n",
      "    for i in range(0, len(zipdata)):\n",
      "        if zipdata[i] != '':\n",
      "            zipstring.append(zipdata[i])\n",
      "    \n",
      "    ziplist = []\n",
      "    for code in zipstring:\n",
      "        zipcode = code[0:5]\n",
      "        ziplist.append(int(zipcode))\n",
      "    \n",
      "\n",
      "    plt.hist(ziplist, bins=200)\n",
      "    plt.savefig('zipcode_histogram.jpg')"
     ],
     "language": "python",
     "metadata": {},
     "outputs": [],
     "prompt_number": 5
    },
    {
     "cell_type": "code",
     "collapsed": false,
     "input": [
      "zip_code_barchart('permits_hydepark.csv')"
     ],
     "language": "python",
     "metadata": {},
     "outputs": [],
     "prompt_number": 6
    },
    {
     "cell_type": "code",
     "collapsed": false,
     "input": [
      "if sys.argv[1] == 'latlong':\n",
      "    get_avg_latlng(permits.csv)\n",
      "        "
     ],
     "language": "python",
     "metadata": {},
     "outputs": [
      {
       "ename": "SyntaxError",
       "evalue": "invalid syntax (<ipython-input-15-84abf64bf1b9>, line 1)",
       "output_type": "pyerr",
       "traceback": [
        "\u001b[1;36m  File \u001b[1;32m\"<ipython-input-15-84abf64bf1b9>\"\u001b[1;36m, line \u001b[1;32m1\u001b[0m\n\u001b[1;33m    if sys.argv[1]= 'latlong':\u001b[0m\n\u001b[1;37m                  ^\u001b[0m\n\u001b[1;31mSyntaxError\u001b[0m\u001b[1;31m:\u001b[0m invalid syntax\n"
       ]
      }
     ],
     "prompt_number": 15
    },
    {
     "cell_type": "code",
     "collapsed": false,
     "input": [
      "permits"
     ],
     "language": "python",
     "metadata": {},
     "outputs": []
    }
   ],
   "metadata": {}
  }
 ]
}